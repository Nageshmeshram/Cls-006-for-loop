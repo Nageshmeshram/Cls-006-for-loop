{
 "cells": [
  {
   "cell_type": "code",
   "execution_count": 37,
   "id": "19f88b10",
   "metadata": {},
   "outputs": [],
   "source": [
    "l = [1,2,3,4,5,'hi','nagesh',125.54]"
   ]
  },
  {
   "cell_type": "code",
   "execution_count": 38,
   "id": "f2528603",
   "metadata": {},
   "outputs": [
    {
     "name": "stdout",
     "output_type": "stream",
     "text": [
      "1\n",
      "2\n",
      "3\n",
      "4\n",
      "5\n",
      "hi\n",
      "nagesh\n",
      "125.54\n"
     ]
    }
   ],
   "source": [
    "for i in l:\n",
    "    print(i)"
   ]
  },
  {
   "cell_type": "code",
   "execution_count": 39,
   "id": "54399815",
   "metadata": {},
   "outputs": [
    {
     "name": "stdout",
     "output_type": "stream",
     "text": [
      "2\n",
      "3\n",
      "4\n",
      "5\n",
      "6\n"
     ]
    },
    {
     "ename": "TypeError",
     "evalue": "can only concatenate str (not \"int\") to str",
     "output_type": "error",
     "traceback": [
      "\u001b[1;31m---------------------------------------------------------------------------\u001b[0m",
      "\u001b[1;31mTypeError\u001b[0m                                 Traceback (most recent call last)",
      "Input \u001b[1;32mIn [39]\u001b[0m, in \u001b[0;36m<cell line: 1>\u001b[1;34m()\u001b[0m\n\u001b[0;32m      1\u001b[0m \u001b[38;5;28;01mfor\u001b[39;00m i \u001b[38;5;129;01min\u001b[39;00m l :\n\u001b[1;32m----> 2\u001b[0m        \u001b[38;5;28mprint\u001b[39m(\u001b[43mi\u001b[49m\u001b[38;5;241;43m+\u001b[39;49m\u001b[38;5;241;43m1\u001b[39;49m)\n",
      "\u001b[1;31mTypeError\u001b[0m: can only concatenate str (not \"int\") to str"
     ]
    }
   ],
   "source": [
    " for i in l :\n",
    "        print(i+1)"
   ]
  },
  {
   "cell_type": "code",
   "execution_count": 40,
   "id": "dd976110",
   "metadata": {},
   "outputs": [
    {
     "name": "stdout",
     "output_type": "stream",
     "text": [
      "2\n",
      "3\n",
      "4\n",
      "5\n",
      "6\n",
      "hi1\n",
      "nagesh1\n",
      "126.54\n"
     ]
    }
   ],
   "source": [
    "for i in l:\n",
    "    if type(i)==int:\n",
    "        print(i+1)\n",
    "    elif type(i)==str:\n",
    "        print(i+str(1))\n",
    "    elif type(i)==float:\n",
    "        print(i+1)"
   ]
  },
  {
   "cell_type": "code",
   "execution_count": 41,
   "id": "291e1502",
   "metadata": {},
   "outputs": [
    {
     "name": "stdout",
     "output_type": "stream",
     "text": [
      "2\n",
      "3\n",
      "4\n",
      "5\n",
      "6\n",
      "hi1\n",
      "nagesh1\n",
      "126.54\n"
     ]
    }
   ],
   "source": [
    "for i in l:\n",
    "    if type(i)==int or type(i)==float :\n",
    "        print(i+1)\n",
    "    elif type(i)==str:\n",
    "        print(i+str(1))\n",
    "     "
   ]
  },
  {
   "cell_type": "code",
   "execution_count": 42,
   "id": "31ef5491",
   "metadata": {},
   "outputs": [
    {
     "data": {
      "text/plain": [
       "[1, 2, 3, 4, 5, 'hi', 'nagesh', 125.54]"
      ]
     },
     "execution_count": 42,
     "metadata": {},
     "output_type": "execute_result"
    }
   ],
   "source": [
    "l"
   ]
  },
  {
   "cell_type": "code",
   "execution_count": 43,
   "id": "370b6b25",
   "metadata": {},
   "outputs": [
    {
     "name": "stdout",
     "output_type": "stream",
     "text": [
      "l1= [1, 2, 3, 4, 5]\n",
      "l2= ['hi', 'nagesh']\n"
     ]
    }
   ],
   "source": [
    "\n",
    "l1 = []\n",
    "l2 = []\n",
    "for i in l:\n",
    "    if type(i)==int:\n",
    "        l1.append(i)\n",
    "    elif type(i)==str:\n",
    "        l2.append(i)\n",
    "print('l1=',l1)\n",
    "print('l2=',l2)"
   ]
  },
  {
   "cell_type": "code",
   "execution_count": 44,
   "id": "ac95e870",
   "metadata": {},
   "outputs": [
    {
     "data": {
      "text/plain": [
       "[1, 2, 3, 4, 5, 'hi', 'nagesh', 125.54]"
      ]
     },
     "execution_count": 44,
     "metadata": {},
     "output_type": "execute_result"
    }
   ],
   "source": [
    "l"
   ]
  },
  {
   "cell_type": "code",
   "execution_count": 45,
   "id": "c0c0b3e9",
   "metadata": {},
   "outputs": [],
   "source": [
    "for i in l :\n",
    "    pass"
   ]
  },
  {
   "cell_type": "code",
   "execution_count": 46,
   "id": "fb48fd46",
   "metadata": {},
   "outputs": [],
   "source": [
    "for i in l :\n",
    "    \n",
    "    pass"
   ]
  },
  {
   "cell_type": "code",
   "execution_count": 47,
   "id": "ab497b13",
   "metadata": {},
   "outputs": [
    {
     "name": "stdout",
     "output_type": "stream",
     "text": [
      "N\n",
      "a\n",
      "g\n",
      "e\n",
      "s\n",
      "h\n"
     ]
    }
   ],
   "source": [
    "s = \"Nagesh\"\n",
    "for i in s :\n",
    "    print(i)"
   ]
  },
  {
   "cell_type": "code",
   "execution_count": 48,
   "id": "c1a76f3c",
   "metadata": {},
   "outputs": [
    {
     "name": "stdout",
     "output_type": "stream",
     "text": [
      "1\n",
      "2\n",
      "3\n",
      "4\n",
      "5\n",
      "hi\n",
      "nagesh\n",
      "125.54\n",
      "if for loop completed then it will executed\n"
     ]
    }
   ],
   "source": [
    "for i in l:\n",
    "    print(i)\n",
    "else:\n",
    "    print('if for loop completed then it will executed')\n",
    "# else will exwcuted when for loop end "
   ]
  },
  {
   "cell_type": "code",
   "execution_count": 49,
   "id": "a33444ba",
   "metadata": {},
   "outputs": [
    {
     "name": "stdout",
     "output_type": "stream",
     "text": [
      "1\n",
      "2\n",
      "3\n"
     ]
    }
   ],
   "source": [
    "for i in l :\n",
    "    if i == 4:\n",
    "        break\n",
    "    print(i)\n",
    "else:\n",
    "    print('else part') # this will not in output as for loop id breaks in between"
   ]
  },
  {
   "cell_type": "code",
   "execution_count": 50,
   "id": "786c9d3b",
   "metadata": {},
   "outputs": [
    {
     "name": "stdout",
     "output_type": "stream",
     "text": [
      "N\n",
      "a\n",
      "g\n",
      "e\n"
     ]
    }
   ],
   "source": [
    "n = \"Nagesh\"\n",
    "for i in n:\n",
    "    if i == 's':\n",
    "        break\n",
    "    print(i)\n",
    "else:\n",
    "    print('print string = ',s)"
   ]
  },
  {
   "cell_type": "code",
   "execution_count": 51,
   "id": "3a71f59b",
   "metadata": {},
   "outputs": [],
   "source": [
    "t = (3,4,4,6,6,6,7,'nagesh')"
   ]
  },
  {
   "cell_type": "code",
   "execution_count": 52,
   "id": "be66b831",
   "metadata": {},
   "outputs": [
    {
     "name": "stdout",
     "output_type": "stream",
     "text": [
      "3\n",
      "4\n",
      "4\n",
      "6\n",
      "6\n",
      "6\n",
      "7\n",
      "nagesh\n"
     ]
    }
   ],
   "source": [
    "for i in t:\n",
    "    print(i)"
   ]
  },
  {
   "cell_type": "code",
   "execution_count": 53,
   "id": "e22e486b",
   "metadata": {},
   "outputs": [],
   "source": [
    "s = {2,3,4,5,5,5,5,5,6,7,58,9,56,4,32,'nagesh'}"
   ]
  },
  {
   "cell_type": "code",
   "execution_count": 54,
   "id": "0b55dda9",
   "metadata": {},
   "outputs": [
    {
     "name": "stdout",
     "output_type": "stream",
     "text": [
      "32\n",
      "2\n",
      "3\n",
      "4\n",
      "5\n",
      "6\n",
      "7\n",
      "nagesh\n",
      "9\n",
      "56\n",
      "58\n"
     ]
    }
   ],
   "source": [
    "for i in s:\n",
    "    print(i)"
   ]
  },
  {
   "cell_type": "code",
   "execution_count": 55,
   "id": "c366e986",
   "metadata": {},
   "outputs": [],
   "source": [
    " d  = {'k1':\"nagesh\",'contact':'nagesh123@.com','Mo_no':12345}"
   ]
  },
  {
   "cell_type": "code",
   "execution_count": 56,
   "id": "1d954616",
   "metadata": {},
   "outputs": [
    {
     "name": "stdout",
     "output_type": "stream",
     "text": [
      "k1\n",
      "contact\n",
      "Mo_no\n"
     ]
    }
   ],
   "source": [
    "for i in d:\n",
    "    print(i)"
   ]
  },
  {
   "cell_type": "code",
   "execution_count": 57,
   "id": "1ad16a99",
   "metadata": {},
   "outputs": [
    {
     "name": "stdout",
     "output_type": "stream",
     "text": [
      "nagesh\n"
     ]
    }
   ],
   "source": [
    "print(d['k1'])"
   ]
  },
  {
   "cell_type": "code",
   "execution_count": 58,
   "id": "0e0619a5",
   "metadata": {},
   "outputs": [
    {
     "name": "stdout",
     "output_type": "stream",
     "text": [
      "nagesh\n",
      "nagesh123@.com\n",
      "12345\n"
     ]
    }
   ],
   "source": [
    "for i in d:\n",
    "    print(d[i])  # this will give the values of dictionary"
   ]
  },
  {
   "cell_type": "code",
   "execution_count": 59,
   "id": "89abd9fd",
   "metadata": {},
   "outputs": [
    {
     "name": "stdout",
     "output_type": "stream",
     "text": [
      "k1 : nagesh\n",
      "contact : nagesh123@.com\n",
      "Mo_no : 12345\n"
     ]
    }
   ],
   "source": [
    "for i in d:\n",
    "    print(i, \":\", d[i]) # keys and values print"
   ]
  },
  {
   "cell_type": "markdown",
   "id": "38d578c3",
   "metadata": {},
   "source": [
    "*\n",
    "**\n",
    "***\n",
    "****"
   ]
  },
  {
   "cell_type": "code",
   "execution_count": 60,
   "id": "e2c32efb",
   "metadata": {},
   "outputs": [
    {
     "data": {
      "text/plain": [
       "range(0, 9)"
      ]
     },
     "execution_count": 60,
     "metadata": {},
     "output_type": "execute_result"
    }
   ],
   "source": [
    "range(9) # this is funtion which will generate data set upto upper bound"
   ]
  },
  {
   "cell_type": "code",
   "execution_count": 61,
   "id": "b4c5ce2b",
   "metadata": {},
   "outputs": [
    {
     "data": {
      "text/plain": [
       "[0, 1, 2, 3, 4, 5, 6, 7, 8]"
      ]
     },
     "execution_count": 61,
     "metadata": {},
     "output_type": "execute_result"
    }
   ],
   "source": [
    "list(range(9))"
   ]
  },
  {
   "cell_type": "code",
   "execution_count": 62,
   "id": "5b7d52db",
   "metadata": {},
   "outputs": [
    {
     "name": "stdout",
     "output_type": "stream",
     "text": [
      "0\n",
      "1\n",
      "2\n",
      "3\n",
      "4\n",
      "5\n",
      "6\n",
      "7\n",
      "8\n"
     ]
    }
   ],
   "source": [
    "for i in range(9):\n",
    "    print(i)"
   ]
  },
  {
   "cell_type": "code",
   "execution_count": 63,
   "id": "c818ce55",
   "metadata": {},
   "outputs": [
    {
     "data": {
      "text/plain": [
       "range(0, 9)"
      ]
     },
     "execution_count": 63,
     "metadata": {},
     "output_type": "execute_result"
    }
   ],
   "source": [
    "range(0,9)"
   ]
  },
  {
   "cell_type": "code",
   "execution_count": 64,
   "id": "9dd484eb",
   "metadata": {},
   "outputs": [
    {
     "data": {
      "text/plain": [
       "range(2, 10)"
      ]
     },
     "execution_count": 64,
     "metadata": {},
     "output_type": "execute_result"
    }
   ],
   "source": [
    "range(2,10)"
   ]
  },
  {
   "cell_type": "code",
   "execution_count": 65,
   "id": "596db902",
   "metadata": {},
   "outputs": [
    {
     "data": {
      "text/plain": [
       "[2, 3, 4, 5, 6, 7, 8, 9]"
      ]
     },
     "execution_count": 65,
     "metadata": {},
     "output_type": "execute_result"
    }
   ],
   "source": [
    "list(range(2,10))"
   ]
  },
  {
   "cell_type": "code",
   "execution_count": 66,
   "id": "22d9ed98",
   "metadata": {},
   "outputs": [
    {
     "data": {
      "text/plain": [
       "[1, 3, 5, 7]"
      ]
     },
     "execution_count": 66,
     "metadata": {},
     "output_type": "execute_result"
    }
   ],
   "source": [
    "list(range(1,9,2))"
   ]
  },
  {
   "cell_type": "code",
   "execution_count": 67,
   "id": "906a77d3",
   "metadata": {},
   "outputs": [
    {
     "data": {
      "text/plain": [
       "[]"
      ]
     },
     "execution_count": 67,
     "metadata": {},
     "output_type": "execute_result"
    }
   ],
   "source": [
    "list(range(1,9,-1))"
   ]
  },
  {
   "cell_type": "code",
   "execution_count": 68,
   "id": "c6ac571d",
   "metadata": {},
   "outputs": [
    {
     "data": {
      "text/plain": [
       "[-10, -8, -6, -4, -2]"
      ]
     },
     "execution_count": 68,
     "metadata": {},
     "output_type": "execute_result"
    }
   ],
   "source": [
    "list(range(-10,0,2))"
   ]
  },
  {
   "cell_type": "code",
   "execution_count": 69,
   "id": "a0197136",
   "metadata": {},
   "outputs": [
    {
     "name": "stdout",
     "output_type": "stream",
     "text": [
      "* \n",
      "\n",
      "* * \n",
      "\n",
      "* * * \n",
      "\n",
      "* * * * \n",
      "\n"
     ]
    }
   ],
   "source": [
    "n = 4 \n",
    "for i in range(4):\n",
    "    for j in range(0,i+1):\n",
    "        print(\"*\",end = \" \")\n",
    "    print('\\n')"
   ]
  },
  {
   "cell_type": "code",
   "execution_count": 70,
   "id": "2aa06a6c",
   "metadata": {},
   "outputs": [
    {
     "name": "stdout",
     "output_type": "stream",
     "text": [
      "enter the numbers or rows = \n"
     ]
    },
    {
     "ename": "ValueError",
     "evalue": "invalid literal for int() with base 10: ''",
     "output_type": "error",
     "traceback": [
      "\u001b[1;31m---------------------------------------------------------------------------\u001b[0m",
      "\u001b[1;31mValueError\u001b[0m                                Traceback (most recent call last)",
      "Input \u001b[1;32mIn [70]\u001b[0m, in \u001b[0;36m<cell line: 1>\u001b[1;34m()\u001b[0m\n\u001b[1;32m----> 1\u001b[0m n \u001b[38;5;241m=\u001b[39m \u001b[38;5;28;43mint\u001b[39;49m\u001b[43m(\u001b[49m\u001b[38;5;28;43minput\u001b[39;49m\u001b[43m(\u001b[49m\u001b[38;5;124;43m'\u001b[39;49m\u001b[38;5;124;43menter the numbers or rows = \u001b[39;49m\u001b[38;5;124;43m'\u001b[39;49m\u001b[43m)\u001b[49m\u001b[43m)\u001b[49m \n\u001b[0;32m      2\u001b[0m \u001b[38;5;28;01mfor\u001b[39;00m i \u001b[38;5;129;01min\u001b[39;00m \u001b[38;5;28mrange\u001b[39m(n):\n\u001b[0;32m      3\u001b[0m     \u001b[38;5;28;01mfor\u001b[39;00m j \u001b[38;5;129;01min\u001b[39;00m \u001b[38;5;28mrange\u001b[39m(\u001b[38;5;241m0\u001b[39m,i\u001b[38;5;241m+\u001b[39m\u001b[38;5;241m1\u001b[39m):\n",
      "\u001b[1;31mValueError\u001b[0m: invalid literal for int() with base 10: ''"
     ]
    }
   ],
   "source": [
    "n = int(input('enter the numbers or rows = ')) \n",
    "for i in range(n):\n",
    "    for j in range(0,i+1):\n",
    "        print(\"*\",end = \" \")\n",
    "    print('\\n')"
   ]
  },
  {
   "cell_type": "code",
   "execution_count": 71,
   "id": "717257d3",
   "metadata": {},
   "outputs": [
    {
     "name": "stdout",
     "output_type": "stream",
     "text": [
      "0\n",
      "1\n",
      "2\n",
      "3\n",
      "4\n",
      "5\n",
      "6\n",
      "7\n",
      "8\n",
      "9\n"
     ]
    }
   ],
   "source": [
    "for i in range(0,10):\n",
    "    print(i)"
   ]
  },
  {
   "cell_type": "code",
   "execution_count": 72,
   "id": "24c960c3",
   "metadata": {},
   "outputs": [
    {
     "name": "stdout",
     "output_type": "stream",
     "text": [
      "* * * * * \n",
      "\n",
      "* * * * \n",
      "\n",
      "* * * \n",
      "\n",
      "* * \n",
      "\n",
      "* \n",
      "\n"
     ]
    }
   ],
   "source": [
    "for i in range(5):\n",
    "    for j in range(i,5):\n",
    "        print(\"*\",end=\" \")\n",
    "    print('\\n')"
   ]
  },
  {
   "cell_type": "code",
   "execution_count": 73,
   "id": "e487ec29",
   "metadata": {},
   "outputs": [
    {
     "name": "stdout",
     "output_type": "stream",
     "text": [
      "0      2      4      6      8      10      12      14      16      18      20      22      24      26      28      30      32      34      36      38      40      42      44      46      48      \n",
      "\n"
     ]
    }
   ],
   "source": [
    "for i in range(0,50,2):\n",
    "    print(i,end='      ')\n",
    "print('\\n')"
   ]
  },
  {
   "cell_type": "code",
   "execution_count": 74,
   "id": "352fd87e",
   "metadata": {},
   "outputs": [
    {
     "name": "stdout",
     "output_type": "stream",
     "text": [
      "\n",
      "\n",
      "* * \n",
      "\n",
      "* * * * \n",
      "\n",
      "* * * * * * \n",
      "\n",
      "* * * * * * * * \n",
      "\n"
     ]
    }
   ],
   "source": [
    "for i in range(0,10,2):\n",
    "    for i in range(i):\n",
    "        print('*',end=' ')\n",
    "    print('\\n')\n",
    "    "
   ]
  },
  {
   "cell_type": "code",
   "execution_count": 75,
   "id": "ad184bf9",
   "metadata": {},
   "outputs": [
    {
     "name": "stdout",
     "output_type": "stream",
     "text": [
      "*   *   *   *   *   \n",
      "\n",
      "*   *   *   *   *   \n",
      "\n",
      "*   *   *   *   *   \n",
      "\n",
      "*   *   *   *   *   \n",
      "\n",
      "*   *   *   *   *   \n",
      "\n"
     ]
    }
   ],
   "source": [
    "for i in range(5):\n",
    "    for j in range(5):\n",
    "        #if i == j:\n",
    "            print('*',end='   ')\n",
    "    print('\\n')"
   ]
  },
  {
   "cell_type": "code",
   "execution_count": 76,
   "id": "695d942d",
   "metadata": {},
   "outputs": [
    {
     "name": "stdout",
     "output_type": "stream",
     "text": [
      "0   0   0   0   0   \n",
      "\n",
      "1   1   1   1   1   \n",
      "\n",
      "2   2   2   2   2   \n",
      "\n",
      "3   3   3   3   3   \n",
      "\n",
      "4   4   4   4   4   \n",
      "\n"
     ]
    }
   ],
   "source": [
    "for i in range(5):\n",
    "    for j in range(5):\n",
    "        #if i == j:\n",
    "            print(i,end='   ')\n",
    "    print('\\n')"
   ]
  },
  {
   "cell_type": "code",
   "execution_count": 77,
   "id": "c652cc0a",
   "metadata": {},
   "outputs": [
    {
     "name": "stdout",
     "output_type": "stream",
     "text": [
      "0   1   2   3   4   \n",
      "\n",
      "0   1   2   3   4   \n",
      "\n",
      "0   1   2   3   4   \n",
      "\n",
      "0   1   2   3   4   \n",
      "\n",
      "0   1   2   3   4   \n",
      "\n"
     ]
    }
   ],
   "source": [
    "for i in range(5):\n",
    "    for j in range(5):\n",
    "        #if i == j:\n",
    "            print(j,end='   ')\n",
    "    print('\\n')"
   ]
  },
  {
   "cell_type": "code",
   "execution_count": 78,
   "id": "59f7a1d6",
   "metadata": {},
   "outputs": [
    {
     "name": "stdout",
     "output_type": "stream",
     "text": [
      "0 0   0 1   0 2   0 3   0 4   \n",
      "\n",
      "1 0   1 1   1 2   1 3   1 4   \n",
      "\n",
      "2 0   2 1   2 2   2 3   2 4   \n",
      "\n",
      "3 0   3 1   3 2   3 3   3 4   \n",
      "\n",
      "4 0   4 1   4 2   4 3   4 4   \n",
      "\n"
     ]
    }
   ],
   "source": [
    "for i in range(5):\n",
    "    for j in range(5):\n",
    "        #if i == j:\n",
    "            print(i,j,end='   ')\n",
    "    print('\\n')"
   ]
  },
  {
   "cell_type": "code",
   "execution_count": 79,
   "id": "9e381277",
   "metadata": {},
   "outputs": [
    {
     "name": "stdout",
     "output_type": "stream",
     "text": [
      "0 0   0 1   0 2   0 3   0 4   \n",
      "\n",
      "1 1   1 2   1 3   1 4   \n",
      "\n",
      "2 2   2 3   2 4   \n",
      "\n",
      "3 3   3 4   \n",
      "\n",
      "4 4   \n",
      "\n"
     ]
    }
   ],
   "source": [
    "for i in range(5):\n",
    "    for j in range(5):\n",
    "        if j >= i:\n",
    "            print(i,j,end='   ')\n",
    "    print('\\n')"
   ]
  },
  {
   "cell_type": "code",
   "execution_count": 80,
   "id": "22451c32",
   "metadata": {},
   "outputs": [
    {
     "name": "stdout",
     "output_type": "stream",
     "text": [
      "*   \n",
      "\n",
      "*   *   \n",
      "\n",
      "*   *   *   \n",
      "\n",
      "*   *   *   *   \n",
      "\n",
      "*   *   *   *   *   \n",
      "\n"
     ]
    }
   ],
   "source": [
    "for i in range(5):\n",
    "    for j in range(5):\n",
    "        if j <= i:\n",
    "            print('*',end='   ')\n",
    "    print('\\n')"
   ]
  },
  {
   "cell_type": "code",
   "execution_count": 81,
   "id": "dfaa52af",
   "metadata": {},
   "outputs": [
    {
     "name": "stdout",
     "output_type": "stream",
     "text": [
      "*   *   *   *   *   \n",
      "\n",
      "*   *   *   *   \n",
      "\n",
      "*   *   *   \n",
      "\n",
      "*   *   \n",
      "\n",
      "*   \n",
      "\n"
     ]
    }
   ],
   "source": [
    "for i in range(5):\n",
    "    for j in range(5):\n",
    "        if j >= i:\n",
    "            print('*',end='   ')\n",
    "    print('\\n')"
   ]
  },
  {
   "cell_type": "code",
   "execution_count": 82,
   "id": "a9ca5390",
   "metadata": {},
   "outputs": [
    {
     "name": "stdout",
     "output_type": "stream",
     "text": [
      "*****\n",
      "\n",
      "*   *   *   *   *   \n",
      "\n",
      "*      *      *      *      *      \n",
      "\n",
      "*         *         *         *         *         \n",
      "\n",
      "*            *            *            *            *            \n",
      "\n"
     ]
    }
   ],
   "source": [
    "for i in range(5):\n",
    "    for j in range(5):\n",
    "        #if j == i:\n",
    "            print('*',end=i*'   ')\n",
    "    print('\\n')"
   ]
  },
  {
   "cell_type": "code",
   "execution_count": 83,
   "id": "26cebcb3",
   "metadata": {},
   "outputs": [
    {
     "name": "stdout",
     "output_type": "stream",
     "text": [
      "* \n",
      "\n",
      "* * \n",
      "\n",
      "* * * \n",
      "\n",
      "* * * * \n",
      "\n",
      "* * * * * \n",
      "\n"
     ]
    }
   ],
   "source": [
    "for i in range(5):\n",
    "    for j in range(5):\n",
    "        if j <= i:\n",
    "            print('*', end=' ')\n",
    "    print('\\n')"
   ]
  },
  {
   "cell_type": "code",
   "execution_count": 84,
   "id": "a4dd4855",
   "metadata": {},
   "outputs": [
    {
     "ename": "IndentationError",
     "evalue": "expected an indented block (3424522233.py, line 1)",
     "output_type": "error",
     "traceback": [
      "\u001b[1;36m  Input \u001b[1;32mIn [84]\u001b[1;36m\u001b[0m\n\u001b[1;33m    for i in l: # we need to write in the loop body if not then write pass\u001b[0m\n\u001b[1;37m                                                                          ^\u001b[0m\n\u001b[1;31mIndentationError\u001b[0m\u001b[1;31m:\u001b[0m expected an indented block\n"
     ]
    }
   ],
   "source": [
    "for i in l: # we need to write in the loop body if not then write pass"
   ]
  },
  {
   "cell_type": "code",
   "execution_count": 85,
   "id": "d9ce5d63",
   "metadata": {},
   "outputs": [],
   "source": [
    "for i in l:\n",
    "    pass"
   ]
  },
  {
   "cell_type": "code",
   "execution_count": 86,
   "id": "2fa6aeca",
   "metadata": {},
   "outputs": [],
   "source": [
    "s = \"abcdefg\""
   ]
  },
  {
   "cell_type": "code",
   "execution_count": 87,
   "id": "d575b8e6",
   "metadata": {},
   "outputs": [
    {
     "name": "stdout",
     "output_type": "stream",
     "text": [
      "a\n",
      "b\n",
      "c\n",
      "d\n",
      "e\n",
      "f\n",
      "g\n"
     ]
    }
   ],
   "source": [
    "for i in s:\n",
    "    print(i)"
   ]
  },
  {
   "cell_type": "code",
   "execution_count": 88,
   "id": "10876305",
   "metadata": {},
   "outputs": [
    {
     "name": "stdout",
     "output_type": "stream",
     "text": [
      "1\n",
      "2\n",
      "3\n",
      "4\n",
      "5\n",
      "hi\n",
      "nagesh\n",
      "125.54\n",
      "else condition with for loop\n"
     ]
    }
   ],
   "source": [
    "for i in l:\n",
    "    print(i)\n",
    "else:\n",
    "    print('else condition with for loop')"
   ]
  },
  {
   "cell_type": "code",
   "execution_count": 90,
   "id": "790ab60a",
   "metadata": {},
   "outputs": [
    {
     "name": "stdout",
     "output_type": "stream",
     "text": [
      "1\n",
      "2\n",
      "3\n",
      "4\n",
      "5\n"
     ]
    }
   ],
   "source": [
    "for i in l:\n",
    "    print(i)\n",
    "    if i == 5:\n",
    "        break # break will end up the loop  \n",
    "else:\n",
    "    print(\"else condition with for loop\")"
   ]
  },
  {
   "cell_type": "code",
   "execution_count": 91,
   "id": "b83d8eb6",
   "metadata": {},
   "outputs": [],
   "source": [
    "t = (1,2,3,4,'nagesh',14.56)"
   ]
  },
  {
   "cell_type": "code",
   "execution_count": 92,
   "id": "421ad035",
   "metadata": {},
   "outputs": [
    {
     "name": "stdout",
     "output_type": "stream",
     "text": [
      "1\n",
      "2\n",
      "3\n",
      "4\n",
      "nagesh\n",
      "14.56\n"
     ]
    }
   ],
   "source": [
    "for i in t:\n",
    "    print(i)"
   ]
  },
  {
   "cell_type": "code",
   "execution_count": 93,
   "id": "2dbfab6a",
   "metadata": {},
   "outputs": [],
   "source": [
    "s = {1,1,1,2,2,2,3,34,5,5,4,5,45,\"nag\",'hello','love'}"
   ]
  },
  {
   "cell_type": "code",
   "execution_count": 94,
   "id": "48ae4363",
   "metadata": {},
   "outputs": [
    {
     "name": "stdout",
     "output_type": "stream",
     "text": [
      "1\n",
      "2\n",
      "3\n",
      "34\n",
      "5\n",
      "4\n",
      "nag\n",
      "45\n",
      "hello\n",
      "love\n"
     ]
    }
   ],
   "source": [
    "for i in s:\n",
    "    print(i)"
   ]
  },
  {
   "cell_type": "code",
   "execution_count": 95,
   "id": "7f5324dd",
   "metadata": {},
   "outputs": [
    {
     "name": "stdout",
     "output_type": "stream",
     "text": [
      "{1, 2, 3, 34, 5, 4, 'nag', 45, 'hello', 'love'}\n"
     ]
    }
   ],
   "source": [
    "print(s)"
   ]
  },
  {
   "cell_type": "code",
   "execution_count": 101,
   "id": "9402840b",
   "metadata": {},
   "outputs": [
    {
     "name": "stdout",
     "output_type": "stream",
     "text": [
      "\n",
      "\n",
      "nag \n",
      "\n",
      "nag nag \n",
      "\n",
      "nag nag nag \n",
      "\n",
      "nag nag nag nag \n",
      "\n"
     ]
    }
   ],
   "source": [
    "for i in range(5):\n",
    "    for j in range(i):\n",
    "        print(\"nag\",end= ' ')\n",
    "    print('\\n')"
   ]
  },
  {
   "cell_type": "code",
   "execution_count": 102,
   "id": "eb78a388",
   "metadata": {},
   "outputs": [
    {
     "data": {
      "text/plain": [
       "[1, 4, 7, 10, 13, 16, 19]"
      ]
     },
     "execution_count": 102,
     "metadata": {},
     "output_type": "execute_result"
    }
   ],
   "source": [
    "list(range(1,20,3))"
   ]
  },
  {
   "cell_type": "code",
   "execution_count": 103,
   "id": "ae782e1a",
   "metadata": {},
   "outputs": [
    {
     "data": {
      "text/plain": [
       "[]"
      ]
     },
     "execution_count": 103,
     "metadata": {},
     "output_type": "execute_result"
    }
   ],
   "source": [
    "list(range(0,10,-1))"
   ]
  },
  {
   "cell_type": "code",
   "execution_count": 106,
   "id": "3b5d50a8",
   "metadata": {},
   "outputs": [
    {
     "data": {
      "text/plain": [
       "[100, 90, 80, 70, 60, 50, 40, 30, 20, 10]"
      ]
     },
     "execution_count": 106,
     "metadata": {},
     "output_type": "execute_result"
    }
   ],
   "source": [
    "list(range(100,0,-10))"
   ]
  },
  {
   "cell_type": "code",
   "execution_count": 107,
   "id": "2c687f4b",
   "metadata": {},
   "outputs": [
    {
     "name": "stdout",
     "output_type": "stream",
     "text": [
      "nagesh \n",
      "\n",
      "nagesh nagesh \n",
      "\n",
      "nagesh nagesh nagesh \n",
      "\n",
      "nagesh nagesh nagesh nagesh \n",
      "\n"
     ]
    }
   ],
   "source": [
    "n = 4\n",
    "for i in range(n):\n",
    "    for j in range(i+1):\n",
    "        print(\"nagesh\",end=' ')\n",
    "    print('\\n')"
   ]
  },
  {
   "cell_type": "code",
   "execution_count": 3,
   "id": "1d5c12ef",
   "metadata": {},
   "outputs": [],
   "source": [
    "s = 'nag'\n",
    "for i in range(5):\n",
    "    s.center(i+6,)"
   ]
  },
  {
   "cell_type": "code",
   "execution_count": 4,
   "id": "097fa2ae",
   "metadata": {},
   "outputs": [
    {
     "data": {
      "text/plain": [
       "'***nag****'"
      ]
     },
     "execution_count": 4,
     "metadata": {},
     "output_type": "execute_result"
    }
   ],
   "source": [
    "s.center(10,'*')"
   ]
  },
  {
   "cell_type": "code",
   "execution_count": 5,
   "id": "08fd0b2c",
   "metadata": {},
   "outputs": [],
   "source": [
    "l = [1,1,1,12,323,34,\"nagesh\",231.45]"
   ]
  },
  {
   "cell_type": "code",
   "execution_count": 6,
   "id": "9097d72a",
   "metadata": {},
   "outputs": [
    {
     "name": "stdout",
     "output_type": "stream",
     "text": [
      "1\n",
      "1\n",
      "1\n",
      "12\n",
      "323\n",
      "34\n",
      "nagesh\n",
      "231.45\n"
     ]
    }
   ],
   "source": [
    "for i in l :\n",
    "    print(i)"
   ]
  },
  {
   "cell_type": "code",
   "execution_count": 7,
   "id": "348b31d4",
   "metadata": {},
   "outputs": [
    {
     "name": "stdout",
     "output_type": "stream",
     "text": [
      "1\n",
      "1\n",
      "1\n",
      "12\n",
      "323\n",
      "34\n",
      "nagesh\n",
      "231.45\n",
      "else \n"
     ]
    }
   ],
   "source": [
    "for i in l :\n",
    "    print(i)\n",
    "else:\n",
    "    print(\"else \")"
   ]
  },
  {
   "cell_type": "code",
   "execution_count": 8,
   "id": "e0883377",
   "metadata": {},
   "outputs": [
    {
     "name": "stdout",
     "output_type": "stream",
     "text": [
      "1\n",
      "1\n",
      "1\n",
      "12\n"
     ]
    }
   ],
   "source": [
    "for i in l :\n",
    "    print(i)\n",
    "    if i == 12:\n",
    "        break\n",
    "else:\n",
    "    print(\"else \")"
   ]
  },
  {
   "cell_type": "code",
   "execution_count": 11,
   "id": "3bff9392",
   "metadata": {},
   "outputs": [
    {
     "name": "stdout",
     "output_type": "stream",
     "text": [
      "n\n",
      "a\n",
      "g\n",
      "e\n",
      "s\n",
      "h\n",
      " \n",
      "m\n",
      "e\n",
      "s\n",
      "h\n",
      "r\n",
      "a\n",
      "m\n",
      "print string nagesh meshram\n"
     ]
    }
   ],
   "source": [
    "n = \"nagesh meshram\"\n",
    "for i in n:\n",
    "    if i == 'p' :\n",
    "        break\n",
    "    print(i)\n",
    "else : \n",
    "    print('print string', n)"
   ]
  },
  {
   "cell_type": "code",
   "execution_count": 12,
   "id": "1fbdaea0",
   "metadata": {},
   "outputs": [
    {
     "name": "stdout",
     "output_type": "stream",
     "text": [
      "n\n",
      "a\n",
      "g\n",
      "e\n",
      "s\n",
      "h\n",
      " \n"
     ]
    }
   ],
   "source": [
    "n = \"nagesh meshram\"\n",
    "for i in n:\n",
    "    if i == 'm' :\n",
    "        break\n",
    "    print(i)\n",
    "else : \n",
    "    print('print string', n)"
   ]
  },
  {
   "cell_type": "code",
   "execution_count": 13,
   "id": "6f4e114c",
   "metadata": {},
   "outputs": [],
   "source": [
    "t = (2,4,6,8,3,5,6,8,\"cement plant\")"
   ]
  },
  {
   "cell_type": "code",
   "execution_count": 14,
   "id": "68ee2d39",
   "metadata": {},
   "outputs": [
    {
     "name": "stdout",
     "output_type": "stream",
     "text": [
      "2\n",
      "4\n",
      "6\n",
      "8\n",
      "3\n",
      "5\n",
      "6\n",
      "8\n",
      "cement plant\n"
     ]
    }
   ],
   "source": [
    "for i in t:\n",
    "    print(i)"
   ]
  },
  {
   "cell_type": "code",
   "execution_count": 15,
   "id": "2dcea232",
   "metadata": {},
   "outputs": [
    {
     "data": {
      "text/plain": [
       "[0, 1, 2, 3, 4]"
      ]
     },
     "execution_count": 15,
     "metadata": {},
     "output_type": "execute_result"
    }
   ],
   "source": [
    "list(range(5))"
   ]
  },
  {
   "cell_type": "code",
   "execution_count": 16,
   "id": "bd1e1429",
   "metadata": {},
   "outputs": [
    {
     "data": {
      "text/plain": [
       "[0, 1, 2, 3, 4]"
      ]
     },
     "execution_count": 16,
     "metadata": {},
     "output_type": "execute_result"
    }
   ],
   "source": [
    "list(range(0,5))"
   ]
  },
  {
   "cell_type": "code",
   "execution_count": 17,
   "id": "7e4661a6",
   "metadata": {},
   "outputs": [
    {
     "data": {
      "text/plain": [
       "[0, 2, 4, 6, 8, 10, 12, 14]"
      ]
     },
     "execution_count": 17,
     "metadata": {},
     "output_type": "execute_result"
    }
   ],
   "source": [
    "list(range(0,15,2))"
   ]
  },
  {
   "cell_type": "code",
   "execution_count": 18,
   "id": "d7ec768e",
   "metadata": {},
   "outputs": [
    {
     "name": "stdout",
     "output_type": "stream",
     "text": [
      "    nag     nag "
     ]
    }
   ],
   "source": [
    "for i in range(5):\n",
    "    for j in range(5):\n",
    "        if j == 3 & i == 0:\n",
    "            print(len(\"nag\")*' ',\"nag\",end=\" \")\n",
    "        "
   ]
  },
  {
   "cell_type": "code",
   "execution_count": 20,
   "id": "ab1fe168",
   "metadata": {},
   "outputs": [
    {
     "name": "stdout",
     "output_type": "stream",
     "text": [
      "nag \n",
      "\n",
      "nag nag \n",
      "\n",
      "nag nag nag \n",
      "\n",
      "nag nag nag nag \n",
      "\n",
      "nag nag nag nag nag \n",
      "\n"
     ]
    }
   ],
   "source": [
    "for i in range(5):\n",
    "    for j in range(i+1):\n",
    "        print(\"nag\",end=' ')\n",
    "    print('\\n')"
   ]
  },
  {
   "cell_type": "code",
   "execution_count": 25,
   "id": "8d599105",
   "metadata": {},
   "outputs": [
    {
     "name": "stdout",
     "output_type": "stream",
     "text": [
      "        nag \n",
      "    nag nag nag \n",
      "nag nag nag nag nag \n"
     ]
    }
   ],
   "source": [
    "n = 3\n",
    "for i in range(n):\n",
    "    for j in range(i,n-1):\n",
    "        print(\" \"*len(\"nag\"),end = ' ')\n",
    "    for j in range(i+1):\n",
    "        print(\"nag\",end = ' ')\n",
    "    for j in range(i):\n",
    "        print('nag',end = ' ')\n",
    "    print()"
   ]
  },
  {
   "cell_type": "code",
   "execution_count": 23,
   "id": "e1958156",
   "metadata": {},
   "outputs": [
    {
     "name": "stdout",
     "output_type": "stream",
     "text": [
      "enter the number of rows = 10\n",
      "                                    nag \n",
      "                                nag nag nag \n",
      "                            nag nag nag nag nag \n",
      "                        nag nag nag nag nag nag nag \n",
      "                    nag nag nag nag nag nag nag nag nag \n",
      "                nag nag nag nag nag nag nag nag nag nag nag \n",
      "            nag nag nag nag nag nag nag nag nag nag nag nag nag \n",
      "        nag nag nag nag nag nag nag nag nag nag nag nag nag nag nag \n",
      "    nag nag nag nag nag nag nag nag nag nag nag nag nag nag nag nag nag \n",
      "nag nag nag nag nag nag nag nag nag nag nag nag nag nag nag nag nag nag nag \n"
     ]
    }
   ],
   "source": [
    "n = int(input(\"enter the number of rows = \" ))\n",
    "for i in range(n):\n",
    "    for j in range(i,n-1):\n",
    "        print(\" \"*len(\"nag\"),end = ' ')\n",
    "    for j in range(i+1):\n",
    "        print(\"nag\",end = ' ')\n",
    "    for j in range(i):\n",
    "        print('nag',end = ' ')\n",
    "    print()"
   ]
  },
  {
   "cell_type": "code",
   "execution_count": 24,
   "id": "6c005db4",
   "metadata": {},
   "outputs": [
    {
     "name": "stdout",
     "output_type": "stream",
     "text": [
      "enter the number of rows = 10\n",
      "                  * \n",
      "                * * * \n",
      "              * * * * * \n",
      "            * * * * * * * \n",
      "          * * * * * * * * * \n",
      "        * * * * * * * * * * * \n",
      "      * * * * * * * * * * * * * \n",
      "    * * * * * * * * * * * * * * * \n",
      "  * * * * * * * * * * * * * * * * * \n",
      "* * * * * * * * * * * * * * * * * * * \n"
     ]
    }
   ],
   "source": [
    "n = int(input(\"enter the number of rows = \" ))\n",
    "for i in range(n):\n",
    "    for j in range(i,n-1):\n",
    "        print(\" \"*len(\"*\"),end = ' ')\n",
    "    for j in range(i+1):\n",
    "        print(\"*\",end = ' ')\n",
    "    for j in range(i):\n",
    "        print('*',end = ' ')\n",
    "    print()"
   ]
  },
  {
   "cell_type": "code",
   "execution_count": 26,
   "id": "61bd9850",
   "metadata": {},
   "outputs": [
    {
     "data": {
      "text/plain": [
       "[]"
      ]
     },
     "execution_count": 26,
     "metadata": {},
     "output_type": "execute_result"
    }
   ],
   "source": [
    "list(range(0))"
   ]
  },
  {
   "cell_type": "code",
   "execution_count": 32,
   "id": "b4f53637",
   "metadata": {},
   "outputs": [
    {
     "name": "stdout",
     "output_type": "stream",
     "text": [
      "* * * \n",
      "\n",
      "* * * \n",
      "\n",
      "* * \n",
      "\n",
      "* * \n",
      "\n",
      "* \n",
      "\n",
      "* \n",
      "\n"
     ]
    }
   ],
   "source": [
    "for i in range(6):\n",
    "    for j in range(i,6,2):\n",
    "        print(\"*\",end= ' ')\n",
    "    print('\\n')"
   ]
  },
  {
   "cell_type": "code",
   "execution_count": 29,
   "id": "89248b95",
   "metadata": {},
   "outputs": [
    {
     "data": {
      "text/plain": [
       "[0, 1, 2, 3, 4, 5]"
      ]
     },
     "execution_count": 29,
     "metadata": {},
     "output_type": "execute_result"
    }
   ],
   "source": [
    "list(range(6))"
   ]
  },
  {
   "cell_type": "code",
   "execution_count": 30,
   "id": "d138d502",
   "metadata": {},
   "outputs": [
    {
     "data": {
      "text/plain": [
       "[0, 2, 4]"
      ]
     },
     "execution_count": 30,
     "metadata": {},
     "output_type": "execute_result"
    }
   ],
   "source": [
    "list(range(0,6,2))"
   ]
  },
  {
   "cell_type": "code",
   "execution_count": 35,
   "id": "a93758f4",
   "metadata": {},
   "outputs": [
    {
     "name": "stdout",
     "output_type": "stream",
     "text": [
      "  * \n",
      " * * \n",
      "* * * \n"
     ]
    }
   ],
   "source": [
    "n = 3\n",
    "for i in range(n):\n",
    "    for j in range(i,n-1):\n",
    "        print('',end = ' ')\n",
    "    for j in range(i+1):\n",
    "        print('*',end = \" \")\n",
    "    print()"
   ]
  },
  {
   "cell_type": "code",
   "execution_count": 37,
   "id": "2f1cf4d7",
   "metadata": {},
   "outputs": [
    {
     "name": "stdout",
     "output_type": "stream",
     "text": [
      "enter the number of rows =5\n",
      "   * \n",
      "  * * \n",
      " * * * \n",
      "* * * * \n"
     ]
    }
   ],
   "source": [
    "n = int(input('enter the number of rows ='))\n",
    "n=n-1\n",
    "for i in range(n):\n",
    "    for j in range(i,n-1):\n",
    "        print('',end = ' ')\n",
    "    for j in range(i+1):\n",
    "        print('*',end = \" \")\n",
    "    print()"
   ]
  },
  {
   "cell_type": "code",
   "execution_count": 43,
   "id": "25886999",
   "metadata": {},
   "outputs": [
    {
     "name": "stdout",
     "output_type": "stream",
     "text": [
      "    nag \n",
      "  nag nag \n",
      "nag nag nag \n"
     ]
    }
   ],
   "source": [
    "n = 3\n",
    "for i in range(n):\n",
    "    for j in range(i,n-1):\n",
    "        print(' ',end = ' ')\n",
    "    for j in range(i+1):\n",
    "        print('nag',end = \" \")\n",
    "    print()"
   ]
  },
  {
   "cell_type": "code",
   "execution_count": 1,
   "id": "e285430c",
   "metadata": {},
   "outputs": [],
   "source": [
    "t = (3,45,56,3,6,7,8,67)"
   ]
  },
  {
   "cell_type": "code",
   "execution_count": 3,
   "id": "18950f1f",
   "metadata": {},
   "outputs": [
    {
     "name": "stdout",
     "output_type": "stream",
     "text": [
      "0 3\n",
      "1 45\n",
      "2 56\n",
      "3 3\n",
      "4 6\n",
      "5 7\n",
      "6 8\n",
      "7 67\n"
     ]
    }
   ],
   "source": [
    "for i in range(len(t)):\n",
    "    print(i,t[i])"
   ]
  },
  {
   "cell_type": "code",
   "execution_count": 6,
   "id": "1e0827c7",
   "metadata": {},
   "outputs": [],
   "source": [
    "for i in range(0,-len(t)):\n",
    "    print(i,t[i])"
   ]
  },
  {
   "cell_type": "code",
   "execution_count": 7,
   "id": "6da78dad",
   "metadata": {},
   "outputs": [
    {
     "name": "stdout",
     "output_type": "stream",
     "text": [
      "0 i\n",
      "1 n\n",
      "2 f\n",
      "3 o\n",
      "4 r\n",
      "5 m\n",
      "6 a\n",
      "7 t\n",
      "8 i\n",
      "9 o\n",
      "10 n\n"
     ]
    }
   ],
   "source": [
    "s = 'information'\n",
    "for i in range(len(s)):\n",
    "    print(i,s[i])"
   ]
  },
  {
   "cell_type": "code",
   "execution_count": 20,
   "id": "769a6f15",
   "metadata": {},
   "outputs": [
    {
     "data": {
      "text/plain": [
       "[0, 1, 2, 3, 4, 5, 6, 7, 8, 9, 10]"
      ]
     },
     "execution_count": 20,
     "metadata": {},
     "output_type": "execute_result"
    }
   ],
   "source": [
    " list(range(len(s)))"
   ]
  },
  {
   "cell_type": "code",
   "execution_count": 28,
   "id": "46c93c89",
   "metadata": {},
   "outputs": [
    {
     "data": {
      "text/plain": [
       "[10, 9, 8, 7, 6, 5, 4, 3, 2, 1, 0]"
      ]
     },
     "execution_count": 28,
     "metadata": {},
     "output_type": "execute_result"
    }
   ],
   "source": [
    " list(range(len(s)-1,-1,-1))"
   ]
  },
  {
   "cell_type": "code",
   "execution_count": 30,
   "id": "7591f5dc",
   "metadata": {},
   "outputs": [
    {
     "name": "stdout",
     "output_type": "stream",
     "text": [
      "10 i\n",
      "9 n\n",
      "8 f\n",
      "7 o\n",
      "6 r\n",
      "5 m\n",
      "4 a\n",
      "3 t\n",
      "2 i\n",
      "1 o\n",
      "0 n\n"
     ]
    }
   ],
   "source": [
    "# reverse indexes and straight string\n",
    "for i in range(len(s)-1,-1,-1):\n",
    "    print(i,s[len(s)-i-1])"
   ]
  },
  {
   "cell_type": "code",
   "execution_count": 32,
   "id": "349bcda0",
   "metadata": {},
   "outputs": [
    {
     "name": "stdout",
     "output_type": "stream",
     "text": [
      "10 n\n",
      "9 o\n",
      "8 i\n",
      "7 t\n",
      "6 a\n",
      "5 m\n",
      "4 r\n",
      "3 o\n",
      "2 f\n",
      "1 n\n",
      "0 i\n"
     ]
    }
   ],
   "source": [
    "# both indexes and string reverse\n",
    "for i in range(len(s)-1,-1,-1):\n",
    "    print(i,s[i])"
   ]
  },
  {
   "cell_type": "code",
   "execution_count": 33,
   "id": "7282396c",
   "metadata": {},
   "outputs": [],
   "source": [
    "d = {'key1':\"nag\",'contact':'nagesh@1234','position':'engineer'}"
   ]
  },
  {
   "cell_type": "code",
   "execution_count": 36,
   "id": "bb5c6b32",
   "metadata": {},
   "outputs": [
    {
     "data": {
      "text/plain": [
       "dict_items([('key1', 'nag'), ('contact', 'nagesh@1234'), ('position', 'engineer')])"
      ]
     },
     "execution_count": 36,
     "metadata": {},
     "output_type": "execute_result"
    }
   ],
   "source": [
    "d.items()"
   ]
  },
  {
   "cell_type": "code",
   "execution_count": 37,
   "id": "f142203c",
   "metadata": {},
   "outputs": [
    {
     "name": "stdout",
     "output_type": "stream",
     "text": [
      "('key1', 'nag') <class 'tuple'>\n",
      "('contact', 'nagesh@1234') <class 'tuple'>\n",
      "('position', 'engineer') <class 'tuple'>\n"
     ]
    }
   ],
   "source": [
    "for i in d.items():\n",
    "    print(i,type(i))"
   ]
  },
  {
   "cell_type": "code",
   "execution_count": 38,
   "id": "fb970ce1",
   "metadata": {},
   "outputs": [
    {
     "name": "stdout",
     "output_type": "stream",
     "text": [
      "('key1', 'nag') <class 'tuple'> <class 'str'>\n",
      "('contact', 'nagesh@1234') <class 'tuple'> <class 'str'>\n",
      "('position', 'engineer') <class 'tuple'> <class 'str'>\n"
     ]
    }
   ],
   "source": [
    "for i in d.items():\n",
    "    print(i,type(i),type(i[1]))"
   ]
  },
  {
   "cell_type": "code",
   "execution_count": 39,
   "id": "e5907d4d",
   "metadata": {},
   "outputs": [],
   "source": [
    "l = ['nagesh','meshram',12343,'nagesh@123',12,45,676,346,6789]"
   ]
  },
  {
   "cell_type": "code",
   "execution_count": 42,
   "id": "f3eedb92",
   "metadata": {},
   "outputs": [],
   "source": [
    "# separate the only interger in place in new list\n",
    "l1=[]\n",
    "for i in l:\n",
    "    if type(i) == int :\n",
    "        l1.append(i)"
   ]
  },
  {
   "cell_type": "code",
   "execution_count": 43,
   "id": "fa4229fa",
   "metadata": {},
   "outputs": [
    {
     "data": {
      "text/plain": [
       "[12343, 12, 45, 676, 346, 6789]"
      ]
     },
     "execution_count": 43,
     "metadata": {},
     "output_type": "execute_result"
    }
   ],
   "source": [
    "l1"
   ]
  },
  {
   "cell_type": "code",
   "execution_count": 44,
   "id": "5245f18a",
   "metadata": {},
   "outputs": [],
   "source": [
    "d = {1:2342,'name':'nagesh','email_id':'nagesh@1234.ai',234:\"abcd\",\"34\":'gift',234:'3225'}"
   ]
  },
  {
   "cell_type": "code",
   "execution_count": 45,
   "id": "2dce5dc2",
   "metadata": {},
   "outputs": [
    {
     "name": "stdout",
     "output_type": "stream",
     "text": [
      "1\n",
      "name\n",
      "email_id\n",
      "234\n",
      "34\n"
     ]
    }
   ],
   "source": [
    "for i in d :\n",
    "    print(i)"
   ]
  },
  {
   "cell_type": "code",
   "execution_count": 46,
   "id": "6824c25a",
   "metadata": {},
   "outputs": [
    {
     "name": "stdout",
     "output_type": "stream",
     "text": [
      "1 : 2342\n",
      "234 : 3225\n"
     ]
    }
   ],
   "source": [
    "for i in d :\n",
    "    if type(i) == int :\n",
    "        print(i,\":\",d[i])"
   ]
  },
  {
   "cell_type": "code",
   "execution_count": 47,
   "id": "489bb6ae",
   "metadata": {},
   "outputs": [],
   "source": [
    "t = (12,4,35,46,5,46,24,6,3,6,353,34)"
   ]
  },
  {
   "cell_type": "code",
   "execution_count": 48,
   "id": "2b0cdb03",
   "metadata": {},
   "outputs": [],
   "source": [
    "s= 'aaaabbccd'"
   ]
  },
  {
   "cell_type": "code",
   "execution_count": 57,
   "id": "8c1cec04",
   "metadata": {},
   "outputs": [
    {
     "name": "stdout",
     "output_type": "stream",
     "text": [
      "count of a= 4 b= 2 c= 2 d= 1\n"
     ]
    }
   ],
   "source": [
    "a,b,c,d=0,0,0,0\n",
    "for i in s:\n",
    "    if i == 'a':\n",
    "        a=a+1\n",
    "    if i == 'b':\n",
    "        b=b+1\n",
    "    if i == 'd':\n",
    "        d=d+1\n",
    "    if i == \"c\":\n",
    "        c=c+1\n",
    "print('count of a=',a,'b=',b,'c=',c,'d=',d)\n",
    "     "
   ]
  },
  {
   "cell_type": "code",
   "execution_count": 58,
   "id": "ea7bda24",
   "metadata": {},
   "outputs": [
    {
     "data": {
      "text/plain": [
       "{'a', 'b', 'c', 'd'}"
      ]
     },
     "execution_count": 58,
     "metadata": {},
     "output_type": "execute_result"
    }
   ],
   "source": [
    "set(s)"
   ]
  },
  {
   "cell_type": "code",
   "execution_count": 59,
   "id": "12156ca1",
   "metadata": {},
   "outputs": [
    {
     "data": {
      "text/plain": [
       "4"
      ]
     },
     "execution_count": 59,
     "metadata": {},
     "output_type": "execute_result"
    }
   ],
   "source": [
    "s.count('a')"
   ]
  },
  {
   "cell_type": "code",
   "execution_count": 60,
   "id": "099b68ce",
   "metadata": {},
   "outputs": [
    {
     "name": "stdout",
     "output_type": "stream",
     "text": [
      "c : 2\n",
      "a : 4\n",
      "b : 2\n",
      "d : 1\n"
     ]
    }
   ],
   "source": [
    "for i in set(s):\n",
    "    print(i, \":\",s.count(i))"
   ]
  },
  {
   "cell_type": "code",
   "execution_count": 66,
   "id": "0fa011da",
   "metadata": {},
   "outputs": [
    {
     "name": "stdout",
     "output_type": "stream",
     "text": [
      "3 <class 'int'>\n",
      "2 <class 'int'>\n",
      "2 <class 'int'>\n",
      "1 <class 'int'>\n",
      "5 <class 'int'>\n",
      "5 <class 'int'>\n",
      "4 <class 'int'>\n",
      "4 <class 'int'>\n",
      "5 <class 'int'>\n"
     ]
    }
   ],
   "source": [
    "i = 322155445\n",
    "for j in str(i):\n",
    "    print(j,type(int(j)))"
   ]
  },
  {
   "cell_type": "code",
   "execution_count": 73,
   "id": "c0da6f38",
   "metadata": {},
   "outputs": [],
   "source": [
    "t= ('nagesh','meshram',[1,2,3,43,45,5],(3,5,6,7),{3:3,\"key1\":'nage','key2':\"meshram\"})"
   ]
  },
  {
   "cell_type": "code",
   "execution_count": 74,
   "id": "55e7fe16",
   "metadata": {},
   "outputs": [
    {
     "name": "stdout",
     "output_type": "stream",
     "text": [
      "nagesh\n",
      "meshram\n",
      "[1, 2, 3, 43, 45, 5]\n",
      "(3, 5, 6, 7)\n",
      "{3: 3, 'key1': 'nage', 'key2': 'meshram'}\n"
     ]
    }
   ],
   "source": [
    "for i in t:\n",
    "     print(i)"
   ]
  },
  {
   "cell_type": "code",
   "execution_count": 76,
   "id": "426374f8",
   "metadata": {},
   "outputs": [
    {
     "name": "stdout",
     "output_type": "stream",
     "text": [
      "3\n",
      "3\n",
      "3\n",
      "<built-in method values of dict object at 0x0000019CAAE1CF00>\n"
     ]
    }
   ],
   "source": [
    "for i in t:\n",
    "    if type(i)==list or type(i)== tuple or type(i)==dict:\n",
    "        for j in i:\n",
    "            if j == 3:\n",
    "                print(j)\n",
    "    if type(i)==dict:\n",
    "        print(i.values)\n",
    "    "
   ]
  },
  {
   "cell_type": "code",
   "execution_count": 80,
   "id": "5c40b6ea",
   "metadata": {},
   "outputs": [
    {
     "name": "stdout",
     "output_type": "stream",
     "text": [
      "3\n",
      "3\n",
      "3\n",
      "3\n",
      "3\n"
     ]
    }
   ],
   "source": [
    "for i in t:\n",
    "    if type(i)==list or type(i)== tuple or type(i)==dict:\n",
    "        for j in i:\n",
    "            if j == 3:\n",
    "                print(j)\n",
    "    if type(i) == dict :\n",
    "        for k,v in i.items():\n",
    "            if k == 3 or v == 3:\n",
    "                print(k)\n",
    "                print(v)\n",
    "        "
   ]
  },
  {
   "cell_type": "code",
   "execution_count": 81,
   "id": "3eb75a55",
   "metadata": {},
   "outputs": [],
   "source": [
    "a=10\n",
    "b=20\n",
    "c=30"
   ]
  },
  {
   "cell_type": "code",
   "execution_count": 82,
   "id": "0033d3cc",
   "metadata": {},
   "outputs": [],
   "source": [
    "a,b,c=10,20,30"
   ]
  },
  {
   "cell_type": "code",
   "execution_count": 83,
   "id": "5ac6782a",
   "metadata": {},
   "outputs": [],
   "source": [
    "a,b,c=(10,20,30)"
   ]
  },
  {
   "cell_type": "code",
   "execution_count": 88,
   "id": "7e2f8cec",
   "metadata": {},
   "outputs": [
    {
     "name": "stdout",
     "output_type": "stream",
     "text": [
      "1 : 23\n",
      "12 : 4546\n",
      "name : qbatao\n",
      "jevlis ka : nahi kaun t ga\n"
     ]
    }
   ],
   "source": [
    "d ={1:23,12:4546,'name':'qbatao','jevlis ka':'nahi kaun t ga'}\n",
    "for i,j in d.items():\n",
    "    print(i,':',j)"
   ]
  },
  {
   "cell_type": "code",
   "execution_count": null,
   "id": "96616f81",
   "metadata": {},
   "outputs": [],
   "source": []
  }
 ],
 "metadata": {
  "kernelspec": {
   "display_name": "Python 3 (ipykernel)",
   "language": "python",
   "name": "python3"
  },
  "language_info": {
   "codemirror_mode": {
    "name": "ipython",
    "version": 3
   },
   "file_extension": ".py",
   "mimetype": "text/x-python",
   "name": "python",
   "nbconvert_exporter": "python",
   "pygments_lexer": "ipython3",
   "version": "3.9.12"
  }
 },
 "nbformat": 4,
 "nbformat_minor": 5
}
